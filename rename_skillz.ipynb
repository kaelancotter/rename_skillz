{
 "cells": [
  {
   "cell_type": "markdown",
   "metadata": {},
   "source": [
    "First lets set up our environment"
   ]
  },
  {
   "cell_type": "code",
   "execution_count": 1,
   "metadata": {},
   "outputs": [],
   "source": [
    "import os\n",
    "if not os.path.isfile('./rename_case.py'):\n",
    "    !wget https://raw.githubusercontent.com/kaelancotter/rename_skillz/master/rename_case.py\n",
    "if not os.path.isfile('./rename_case_test.py'):\n",
    "    !wget https://raw.githubusercontent.com/kaelancotter/rename_skillz/master/rename_case_test.py"
   ]
  },
  {
   "cell_type": "markdown",
   "metadata": {},
   "source": [
    "Now we can import some of the code thats already been written and try to implment the remaining 4 functions"
   ]
  },
  {
   "cell_type": "code",
   "execution_count": 2,
   "metadata": {},
   "outputs": [],
   "source": [
    "from rename_case import RenameCaseHelpers\n",
    "import re"
   ]
  },
  {
   "cell_type": "markdown",
   "metadata": {},
   "source": [
    "We need code to determin if a provided case is in a given path: `is_case_in_path`\n",
    "\n",
    "We need code to generate a list of files in a given directory that need to be renamed: `find_files_with_case`\n",
    " - We know they need to be renamed because the path includes the provided case\n",
    "\n",
    "We need code to generate the new path we want to use instead of the old path: `replace_case`\n",
    " - Every instance of `old_case` in the provide path needs to be changed to `new_case`\n",
    "\n",
    "We need code to actually rename a file from one path to another: `rename_file`\n",
    "\n",
    "### Assignment\n",
    "\n",
    "Below is the skeleton of the class we want to create to do all of the above.\n",
    "Please use this notebook to write functions for each skeleton function.\n",
    "When you think everything is working go ahead and edit the original rename_case.py with your completed functions.\n",
    "Once edited, your code can be tested with the magic snippet as shown below:\n",
    "`!python rename_case_test.py`"
   ]
  },
  {
   "cell_type": "code",
   "execution_count": 3,
   "metadata": {},
   "outputs": [],
   "source": [
    "class RenameCase:\n",
    "    CASE_RE = re.compile('[a-zA-Z]{2}[0-9]{6}-[0-9]{2}[A-Z]')  #this is a regular expression, we'll discuss\n",
    "\n",
    "    @staticmethod\n",
    "    def is_case_in_path(path, case):\n",
    "        '''\n",
    "        This tests a provided path and returns True or False if the case if found\n",
    "        :param path: path to evaluate (string)\n",
    "        :param case: case to search for (string)\n",
    "        :return: True or False depending on search results\n",
    "        '''\n",
    "        #TODO\n",
    "        return False\n",
    "\n",
    "    @staticmethod\n",
    "    def find_files_with_case(parent_folder, case):\n",
    "        '''\n",
    "        :param parent_folder: the path we want to search in\n",
    "        :param case: the case we want to look for in any file in parent folder\n",
    "        :return: a list of files that have case in the name\n",
    "        '''\n",
    "        # HINT!! We have a helper function that gets a list of all the files in a given path\n",
    "        # HINT!! it can be called like: RenameCaseHelpers.files_in_path(parent_folder)\n",
    "        # this should be used with the below is_case_in_path function\n",
    "        # TODO\n",
    "        return []\n",
    "\n",
    "\n",
    "    @staticmethod\n",
    "    def replace_case(path, old_case, new_case):\n",
    "        '''\n",
    "        Rename a file with old_case to one with new_case in the filename\n",
    "        :param path: path with old_case as part of the filename\n",
    "        :param old_case: case to change from\n",
    "        :param new_case: case to change to\n",
    "        :return: new path where old_case has been replaced with new_case\n",
    "        '''\n",
    "        #TODO\n",
    "        return path\n",
    "\n",
    "    @staticmethod\n",
    "    def rename_file(src, dst, create_folders=False):\n",
    "        '''\n",
    "        :param src: the original path to the file\n",
    "        :param dst: the new name for the file\n",
    "        :param create_folders: if true - create missing parent folders in output file path (extra credit!!!)\n",
    "        :return: None\n",
    "        '''\n",
    "        # TODO\n",
    "        # HINT!! both os and shutil have functions for renaming files - move and rename are synonymous\n",
    "        # https://docs.python.org/3/library/os.html\n",
    "        # https://docs.python.org/3.7/library/shutil.html\n",
    "        return None"
   ]
  },
  {
   "cell_type": "code",
   "execution_count": 4,
   "metadata": {},
   "outputs": [
    {
     "name": "stdout",
     "output_type": "stream",
     "text": [
      "FFFF.\n",
      "======================================================================\n",
      "FAIL: test_find_files_with_case (__main__.RenameCaseTestCase)\n",
      "----------------------------------------------------------------------\n",
      "Traceback (most recent call last):\n",
      "  File \"rename_case_test.py\", line 95, in test_find_files_with_case\n",
      "    self.assertListEqual(sorted(expected), sorted(RenameCase.find_files_with_case(self.work_dir(), self.TEST_CASE)))\n",
      "AssertionError: Lists differ: ['/mnt/store/ubu/git/rename_skillz/test_fi[258 chars]tif'] != []\n",
      "\n",
      "First list contains 4 additional elements.\n",
      "First extra element 0:\n",
      "'/mnt/store/ubu/git/rename_skillz/test_files/SW140915-01A/SQ200101-01A_2_01.tif'\n",
      "\n",
      "+ []\n",
      "- ['/mnt/store/ubu/git/rename_skillz/test_files/SW140915-01A/SQ200101-01A_2_01.tif',\n",
      "-  '/mnt/store/ubu/git/rename_skillz/test_files/SW140915-01A/SW140915-01A_2_01.tif',\n",
      "-  '/mnt/store/ubu/git/rename_skillz/test_files/SW140915-01A/skip_me.tif',\n",
      "-  '/mnt/store/ubu/git/rename_skillz/test_files/SW140915-01A_2_01.tif']\n",
      "\n",
      "======================================================================\n",
      "FAIL: test_is_case_in_path (__main__.RenameCaseTestCase)\n",
      "----------------------------------------------------------------------\n",
      "Traceback (most recent call last):\n",
      "  File \"rename_case_test.py\", line 87, in test_is_case_in_path\n",
      "    self.assertTrue(RenameCase.is_case_in_path(p, self.TEST_CASE))\n",
      "AssertionError: False is not true\n",
      "\n",
      "======================================================================\n",
      "FAIL: test_rename_file (__main__.RenameCaseTestCase)\n",
      "----------------------------------------------------------------------\n",
      "Traceback (most recent call last):\n",
      "  File \"rename_case_test.py\", line 102, in test_rename_file\n",
      "    self.assertTrue(os.path.isfile(self.outcase_root()))\n",
      "AssertionError: False is not true\n",
      "\n",
      "======================================================================\n",
      "FAIL: test_replace_case (__main__.RenameCaseTestCase)\n",
      "----------------------------------------------------------------------\n",
      "Traceback (most recent call last):\n",
      "  File \"rename_case_test.py\", line 98, in test_replace_case\n",
      "    self.assertEqual(self.outcase_root(), RenameCase.replace_case(self.case_root(), self.TEST_CASE, self.OUT_CASE))\n",
      "AssertionError: '/mnt/store/ubu/git/rename_skillz/test_files/TC131342-01A_2_01.tif' != '/mnt/store/ubu/git/rename_skillz/test_files/SW140915-01A_2_01.tif'\n",
      "- /mnt/store/ubu/git/rename_skillz/test_files/TC131342-01A_2_01.tif\n",
      "?                                             ^^ ^ ^^^\n",
      "+ /mnt/store/ubu/git/rename_skillz/test_files/SW140915-01A_2_01.tif\n",
      "?                                             ^^ ^^^ ^\n",
      "\n",
      "\n",
      "----------------------------------------------------------------------\n",
      "Ran 5 tests in 0.024s\n",
      "\n",
      "FAILED (failures=4)\n"
     ]
    }
   ],
   "source": [
    "!python rename_case_test.py"
   ]
  },
  {
   "cell_type": "code",
   "execution_count": null,
   "metadata": {},
   "outputs": [],
   "source": []
  }
 ],
 "metadata": {
  "kernelspec": {
   "display_name": "Python 3",
   "language": "python",
   "name": "python3"
  },
  "language_info": {
   "codemirror_mode": {
    "name": "ipython",
    "version": 3
   },
   "file_extension": ".py",
   "mimetype": "text/x-python",
   "name": "python",
   "nbconvert_exporter": "python",
   "pygments_lexer": "ipython3",
   "version": "3.7.7"
  }
 },
 "nbformat": 4,
 "nbformat_minor": 4
}
